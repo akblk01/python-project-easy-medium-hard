{
 "cells": [
  {
   "cell_type": "markdown",
   "metadata": {},
   "source": [
    "# Easy Challanges"
   ]
  },
  {
   "cell_type": "markdown",
   "metadata": {},
   "source": [
    "## Faktoriyel"
   ]
  },
  {
   "cell_type": "code",
   "execution_count": 1,
   "metadata": {},
   "outputs": [],
   "source": [
    "def fact(num):\n",
    "    res = 1\n",
    "    for i in range(num):\n",
    "        res *= num \n",
    "        num -= 1\n",
    "    return res"
   ]
  },
  {
   "cell_type": "code",
   "execution_count": 2,
   "metadata": {},
   "outputs": [
    {
     "data": {
      "text/plain": [
       "1"
      ]
     },
     "execution_count": 2,
     "metadata": {},
     "output_type": "execute_result"
    }
   ],
   "source": [
    "fact(0)"
   ]
  },
  {
   "cell_type": "markdown",
   "metadata": {},
   "source": [
    "### Kelimenin Tersi"
   ]
  },
  {
   "cell_type": "code",
   "execution_count": 3,
   "metadata": {},
   "outputs": [],
   "source": [
    "def reverseWord (word):\n",
    "    return word[::-1]"
   ]
  },
  {
   "cell_type": "code",
   "execution_count": 4,
   "metadata": {},
   "outputs": [
    {
     "data": {
      "text/plain": [
       "'ridaK'"
      ]
     },
     "execution_count": 4,
     "metadata": {},
     "output_type": "execute_result"
    }
   ],
   "source": [
    "reverseWord('Kadir')"
   ]
  },
  {
   "cell_type": "markdown",
   "metadata": {},
   "source": [
    "### Dakika-Saat Dönüştürücü"
   ]
  },
  {
   "cell_type": "code",
   "execution_count": 5,
   "metadata": {},
   "outputs": [
    {
     "name": "stdout",
     "output_type": "stream",
     "text": [
      "6 Saat  1 Dakika \n"
     ]
    }
   ],
   "source": [
    "def minuteToHourConverter(min):\n",
    "    return print(f'{min // 60} Saat  {min % 60} Dakika ')\n",
    "minuteToHourConverter(361)"
   ]
  },
  {
   "cell_type": "markdown",
   "metadata": {},
   "source": [
    "### Cümle baş harfini büyütme.\n",
    "* title methodu tüm kelimlerin baş harfini büyütür."
   ]
  },
  {
   "cell_type": "code",
   "execution_count": 6,
   "metadata": {},
   "outputs": [],
   "source": [
    "def capitalization(sentence):\n",
    "    return sentence.capitalize()"
   ]
  },
  {
   "cell_type": "code",
   "execution_count": 123,
   "metadata": {},
   "outputs": [
    {
     "data": {
      "text/plain": [
       "'Kadir günde iki buçuk litre kahve içmezse ayılamaz'"
      ]
     },
     "execution_count": 123,
     "metadata": {},
     "output_type": "execute_result"
    }
   ],
   "source": [
    "capitalization(\"kadir Günde Iki buçuk litre kahve içmezse ayılamaz\")"
   ]
  },
  {
   "cell_type": "markdown",
   "metadata": {},
   "source": [
    "# Medium Challanges"
   ]
  },
  {
   "cell_type": "markdown",
   "metadata": {},
   "source": [
    "### Kelime Karıştırma"
   ]
  },
  {
   "cell_type": "code",
   "execution_count": 8,
   "metadata": {},
   "outputs": [
    {
     "name": "stdout",
     "output_type": "stream",
     "text": [
      "True\n",
      "False\n"
     ]
    }
   ],
   "source": [
    "def wordMixing(word,letter):\n",
    "    for i in letter.upper():\n",
    "        if i not in word.upper():\n",
    "            return False\n",
    "    return True\n",
    "\n",
    "print(wordMixing(\"kadir\",\"Ridak\"))\n",
    "print(wordMixing(\"Kadir\", \"Akbalık\"))"
   ]
  },
  {
   "cell_type": "markdown",
   "metadata": {},
   "source": [
    "### Sıklık Bulma"
   ]
  },
  {
   "cell_type": "code",
   "execution_count": 9,
   "metadata": {},
   "outputs": [],
   "source": [
    "def frequencyFinding(string):\n",
    "    i = 0\n",
    "    finalString = \"\"\n",
    "    \n",
    "    while i < len(string):\n",
    "        \n",
    "        c = string[i]\n",
    "        j = i + 1\n",
    "        \n",
    "        compressed = [1,c]\n",
    "        \n",
    "        while j < len(string):\n",
    "            if string[j] == c:\n",
    "                compressed[0] += 1\n",
    "            else:\n",
    "                break\n",
    "            j += 1\n",
    "        i = j\n",
    "        finalString += \"\".join(map(str,compressed))\n",
    "    return finalString"
   ]
  },
  {
   "cell_type": "code",
   "execution_count": 10,
   "metadata": {},
   "outputs": [
    {
     "name": "stdout",
     "output_type": "stream",
     "text": [
      "2k3a3d3i1r\n"
     ]
    }
   ],
   "source": [
    "print(frequencyFinding(\"kkaaadddiiir\"))"
   ]
  },
  {
   "cell_type": "markdown",
   "metadata": {},
   "source": [
    "### Kayıp Basamak Bulma"
   ]
  },
  {
   "cell_type": "code",
   "execution_count": 47,
   "metadata": {},
   "outputs": [],
   "source": [
    "def kayıpBas(string):\n",
    "    for i in range(10):\n",
    "        c = string.replace('x', str(i))\n",
    "        x = string.index('=')\n",
    "        if eval(c[:x]) == eval(c[x+1:]):\n",
    "            return str(i)"
   ]
  },
  {
   "cell_type": "code",
   "execution_count": 48,
   "metadata": {},
   "outputs": [
    {
     "name": "stdout",
     "output_type": "stream",
     "text": [
      "6\n"
     ]
    }
   ],
   "source": [
    "print(kayıpBas('10 - x = 4'))"
   ]
  },
  {
   "cell_type": "markdown",
   "metadata": {},
   "source": [
    "# Hard Challenges"
   ]
  },
  {
   "cell_type": "markdown",
   "metadata": {},
   "source": [
    "### Array Rotasyonu"
   ]
  },
  {
   "cell_type": "code",
   "execution_count": 73,
   "metadata": {},
   "outputs": [],
   "source": [
    "def x(liste):\n",
    "    a = (liste[liste[0]:liste[-1]])\n",
    "    for i in liste:\n",
    "        if i not in a:\n",
    "            a.append(i)\n",
    "    \n",
    "    \n",
    "    return \"\".join(map(str,a))"
   ]
  },
  {
   "cell_type": "code",
   "execution_count": 74,
   "metadata": {},
   "outputs": [
    {
     "data": {
      "text/plain": [
       "'678345'"
      ]
     },
     "execution_count": 74,
     "metadata": {},
     "output_type": "execute_result"
    }
   ],
   "source": [
    "x([3,4,5,6,7,8])"
   ]
  },
  {
   "cell_type": "markdown",
   "metadata": {},
   "source": [
    "### Array Pairs"
   ]
  },
  {
   "cell_type": "code",
   "execution_count": 1,
   "metadata": {},
   "outputs": [],
   "source": [
    "def arrayCouple(array):\n",
    "    new = \"\"\n",
    "    \n",
    "    for k in range(len(array)):\n",
    "        new += str(array[k]) + \" \"\n",
    "        \n",
    "        if k % 2 == 1:\n",
    "            new += \",\"\n",
    "    new = new.split(' ,')\n",
    "    \n",
    "    depo = []\n",
    "    for i in new:\n",
    "        if i[::-1] not in new:\n",
    "            for l in i.split():\n",
    "                depo.append(l)\n",
    "        elif i == i[::-1] and new.count(i)<2:\n",
    "            for l in i.split():\n",
    "                depo.append(i)\n",
    "    \n",
    "    if depo == []:\n",
    "        return 'ok'\n",
    "    return ','.join(depo)\n",
    "            "
   ]
  },
  {
   "cell_type": "code",
   "execution_count": 3,
   "metadata": {},
   "outputs": [
    {
     "data": {
      "text/plain": [
       "'ok'"
      ]
     },
     "execution_count": 3,
     "metadata": {},
     "output_type": "execute_result"
    }
   ],
   "source": [
    "arrayCouple([5,6,6,5,3,3,3,3])"
   ]
  }
 ],
 "metadata": {
  "kernelspec": {
   "display_name": "Python 3",
   "language": "python",
   "name": "python3"
  },
  "language_info": {
   "codemirror_mode": {
    "name": "ipython",
    "version": 3
   },
   "file_extension": ".py",
   "mimetype": "text/x-python",
   "name": "python",
   "nbconvert_exporter": "python",
   "pygments_lexer": "ipython3",
   "version": "3.8.5"
  }
 },
 "nbformat": 4,
 "nbformat_minor": 4
}
